{
 "cells": [
  {
   "cell_type": "markdown",
   "metadata": {},
   "source": [
    "# World Suicide Rate Map\n",
    "## Data\n",
    "Download data from [WHO website](https://apps.who.int/gho/data/view.main.MHSUICIDEv?lang=en).\n",
    "\n",
    "Click  *Download complete data set as: CSV table* and save it do `data`"
   ]
  },
  {
   "cell_type": "code",
   "execution_count": null,
   "metadata": {},
   "outputs": [],
   "source": [
    "import json\n",
    "import folium\n",
    "import pandas as pd\n",
    "import urllib"
   ]
  },
  {
   "cell_type": "code",
   "execution_count": null,
   "metadata": {},
   "outputs": [],
   "source": [
    "# Read data\n",
    "data_fpath = 'data/SDGSUICIDE,SDG_SH_STA_SCIDEN.csv'\n",
    "df = pd.read_csv(data_fpath, header=1)\n",
    "df.columns = [col.strip() for col in df.columns]\n",
    "df['Sex'] = df['Sex'].apply(lambda x: x.strip())\n",
    "df = df[df['Sex'] == 'Both sexes']\n",
    "df.drop('Sex', inplace=True, axis=1)"
   ]
  },
  {
   "cell_type": "code",
   "execution_count": null,
   "metadata": {
    "scrolled": false
   },
   "outputs": [],
   "source": [
    "# update country names\n",
    "country_mapping = {\n",
    " 'Bahamas': 'The Bahamas',\n",
    " 'Bolivia (Plurinational State of)': 'Bolivia',\n",
    " 'Brunei Darussalam': 'Brunei',\n",
    " 'Congo': 'Republic of the Congo',\n",
    " \"Côte d'Ivoire\": 'Ivory Coast',\n",
    " 'Czechia': 'Czech Republic',\n",
    " \"Democratic People's Republic of Korea\": 'North Korea',\n",
    " 'Guinea-Bissau': 'Guinea Bissau',\n",
    " 'Iran (Islamic Republic of)': 'Iran',\n",
    " \"Lao People's Democratic Republic\": 'Laos',\n",
    " 'Mauritius': 'Mauritania',\n",
    " 'Republic of Korea': 'South Korea',\n",
    " 'Republic of Moldova': 'Moldova',\n",
    " 'Republic of North Macedonia': 'Macedonia',\n",
    " 'Russian Federation': 'Russia',\n",
    " 'Serbia': 'Republic of Serbia',\n",
    " 'Syrian Arab Republic': 'Syria',\n",
    " 'United Kingdom of Great Britain and Northern Ireland': 'United Kingdom',\n",
    " 'Venezuela (Bolivarian Republic of)': 'Venezuela',\n",
    " 'Viet Nam': 'Vietnam'}\n",
    "new_country_names = []\n",
    "for country in df.Country:\n",
    "    if country in country_mapping:\n",
    "        new_country_names.append(country_mapping[country])\n",
    "    else:\n",
    "        new_country_names.append(country)\n",
    "df.Country = new_country_names"
   ]
  },
  {
   "cell_type": "code",
   "execution_count": null,
   "metadata": {},
   "outputs": [],
   "source": [
    "# filter OECD countries \n",
    "# oecd countries as of 2016\n",
    "oecd_countries = \"\"\"Australia\n",
    "Austria\n",
    "Belgium\n",
    "Canada\n",
    "Chile\n",
    "Czech Republic\n",
    "Denmark\n",
    "Estonia\n",
    "Finland\n",
    "France\n",
    "Germany\n",
    "Greece\n",
    "Hungary\n",
    "Iceland\n",
    "Ireland\n",
    "Israel\n",
    "Italy\n",
    "Japan\n",
    "Latvia\n",
    "Luxembourg\n",
    "Mexico\n",
    "Netherlands\n",
    "New Zealand\n",
    "Norway\n",
    "Poland\n",
    "Portugal\n",
    "Slovenia\n",
    "South Korea\n",
    "Spain\n",
    "Sweden\n",
    "Switzerland\n",
    "Turkey\n",
    "United Kingdom\n",
    "United States of America\"\"\"\n",
    "oecd_countries = oecd_countries.split('\\n')\n",
    "df = df[df.Country.isin(oecd_countries)]"
   ]
  },
  {
   "cell_type": "code",
   "execution_count": null,
   "metadata": {
    "scrolled": false
   },
   "outputs": [],
   "source": [
    "# draw map\n",
    "world_geo_url = 'https://raw.githubusercontent.com/python-visualization/folium/master/examples/data/world-countries.json'\n",
    "m = folium.Map()\n",
    "folium.Choropleth(\n",
    "    geo_data=world_geo_url,\n",
    "    columns=['Country', '2016'],\n",
    "    data=df,\n",
    "    key_on='properties.name',\n",
    "    fill_color='YlOrRd',\n",
    "    legend_name='2016 Suicide mortality rate (per 100,000 population)',\n",
    "    nan_fill_opacity=0.1\n",
    ").add_to(m)\n",
    "m"
   ]
  }
 ],
 "metadata": {
  "kernelspec": {
   "display_name": "blog",
   "language": "python",
   "name": "blog"
  },
  "language_info": {
   "codemirror_mode": {
    "name": "ipython",
    "version": 3
   },
   "file_extension": ".py",
   "mimetype": "text/x-python",
   "name": "python",
   "nbconvert_exporter": "python",
   "pygments_lexer": "ipython3",
   "version": "3.7.7"
  }
 },
 "nbformat": 4,
 "nbformat_minor": 4
}
